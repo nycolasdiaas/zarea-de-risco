{
 "cells": [
  {
   "cell_type": "code",
   "execution_count": 3,
   "metadata": {},
   "outputs": [],
   "source": [
    "from minio import Minio\n",
    "from dotenv import load_dotenv\n",
    "import os\n",
    "import json"
   ]
  },
  {
   "cell_type": "code",
   "execution_count": 7,
   "metadata": {},
   "outputs": [],
   "source": [
    "load_dotenv()\n",
    "\n",
    "minio_client = Minio(\n",
    "    endpoint=os.getenv(\"MINIO_ENDPOINT\"),\n",
    "    access_key=os.getenv(\"MINIO_ACCESS_KEY\"), \n",
    "    secret_key=os.getenv(\"MINIO_SECRECT_KEY\"), \n",
    "    secure=False \n",
    ")\n",
    "bucket_name = os.getenv(\"MINIO_BUCKET_NAME\")"
   ]
  },
  {
   "cell_type": "code",
   "execution_count": 20,
   "metadata": {},
   "outputs": [],
   "source": [
    "import re\n",
    "\n",
    "# Lista de bairros de Fortaleza/CE\n",
    "bairros_fortaleza = [\n",
    "    \"Aerolândia\", \"Alagadiço\", \"Alto da Balança\", \"Alvaro Weyne\", \"Amadeu Furtado\",\n",
    "    \"Ancuri\", \"Antônio Bezerra\", \"Autran Nunes\", \"Barra do Ceará\", \"Barroso\",\n",
    "    \"Bela Vista\", \"Benfica\", \"Bonsucesso\", \"Bom Jardim\", \"Cais do Porto\",\n",
    "    \"Cajazeiras\", \"Canindezinho\", \"Carlito Pamplona\", \"Cidade 2000\", \"Cidade dos Funcionários\",\n",
    "    \"Coco\", \"Conjunto Ceará I\", \"Conjunto Ceará II\", \"Cristo Redentor\", \"Curió\",\n",
    "    \"De Lourdes\", \"Demócrito Rocha\", \"Dendê\", \"Dionísio Torres\", \"Dunas\",\n",
    "    \"Edson Queiroz\", \"Ellery\", \"Engenheiro Luciano Cavalcante\", \"Farias Brito\", \"Fátima\",\n",
    "    \"Floresta\", \"Genibaú\", \"Granja Lisboa\", \"Granja Portugal\", \"Guajeru\",\n",
    "    \"Icaraí\", \"Itaoca\", \"Itaperi\", \"Itaperi II\", \"Jabuti\",\n",
    "    \"Jacarecanga\", \"Jangurussu\", \"Jardim América\", \"Jardim Iracema\", \"Jardim Guanabara\",\n",
    "    \"João XXIII\", \"José Bonifácio\", \"José de Alencar\", \"Lagoa Redonda\", \"Luciano Cavalcante\",\n",
    "    \"Manuel Sátiro\", \"Maraponga\", \"Meireles\", \"Mondubim\", \"Monte Castelo\",\n",
    "    \"Montese\", \"Mucuripe\", \"Nossa Senhora das Graças\", \"Padre Andrade\", \"Parangaba\",\n",
    "    \"Parque Araxá\", \"Parque Dois Irmãos\", \"Parque Iracema\", \"Parque Manibura\", \"Parque Presidente Vargas\",\n",
    "    \"Passaré\", \"Paupina\", \"Pirambu\", \"Planalto Ayrton Senna\", \"Planalto Pici\",\n",
    "    \"Presidente Kennedy\", \"Prefeito José Walter\", \"Quintino Cunha\", \"Sabiaguaba\", \"Sapiranga\",\n",
    "    \"Serrinha\", \"São Bento\", \"São Gerardo\", \"São João do Tauape\", \"Tancredo Neves\",\n",
    "    \"Varjota\", \"Vicente Pinzon\", \"Vila Ellery\", \"Vila Pery\", \"Vila União\", \"Vila Velha\"\n",
    "]\n",
    "\n",
    "mensagens_com_bairros = []"
   ]
  },
  {
   "cell_type": "code",
   "execution_count": 18,
   "metadata": {},
   "outputs": [
    {
     "name": "stdout",
     "output_type": "stream",
     "text": [
      "Obj:  Portalnoticiasceara/2024-12-10/media/photo_5390.jpg.zstd\n",
      "Obj:  Portalnoticiasceara/2024-12-10/media/photo_5394.jpg.zstd\n",
      "Obj:  Portalnoticiasceara/2024-12-10/media/photo_5395.jpg.zstd\n",
      "Obj:  Portalnoticiasceara/2024-12-10/media/photo_5401.jpg.zstd\n",
      "Obj:  Portalnoticiasceara/2024-12-10/media/photo_5406.jpg.zstd\n",
      "Obj:  Portalnoticiasceara/2024-12-10/media/photo_5407.jpg.zstd\n",
      "Obj:  Portalnoticiasceara/2024-12-10/media/photo_5410.jpg.zstd\n",
      "Obj:  Portalnoticiasceara/2024-12-10/media/photo_5411.jpg.zstd\n",
      "Obj:  Portalnoticiasceara/2024-12-10/media/photo_5419.jpg.zstd\n",
      "Obj:  Portalnoticiasceara/2024-12-10/media/photo_5420.jpg.zstd\n",
      "Obj:  Portalnoticiasceara/2024-12-10/media/photo_5421.jpg.zstd\n",
      "Obj:  Portalnoticiasceara/2024-12-10/media/photo_5422.jpg.zstd\n",
      "Obj:  Portalnoticiasceara/2024-12-10/media/photo_5423.jpg.zstd\n",
      "Obj:  Portalnoticiasceara/2024-12-10/media/photo_5424.jpg.zstd\n",
      "Obj:  Portalnoticiasceara/2024-12-10/media/photo_5425.jpg.zstd\n",
      "Obj:  Portalnoticiasceara/2024-12-10/media/photo_5429.jpg.zstd\n",
      "Obj:  Portalnoticiasceara/2024-12-10/media/photo_5430.jpg.zstd\n",
      "Obj:  Portalnoticiasceara/2024-12-10/media/photo_5431.jpg.zstd\n",
      "Obj:  Portalnoticiasceara/2024-12-10/media/photo_5432.jpg.zstd\n",
      "Obj:  Portalnoticiasceara/2024-12-10/media/photo_5433.jpg.zstd\n",
      "Obj:  Portalnoticiasceara/2024-12-10/media/photo_5435.jpg.zstd\n",
      "Obj:  Portalnoticiasceara/2024-12-10/media/photo_5436.jpg.zstd\n",
      "Obj:  Portalnoticiasceara/2024-12-10/media/photo_5437.jpg.zstd\n",
      "Obj:  Portalnoticiasceara/2024-12-10/media/photo_5441.jpg.zstd\n",
      "Obj:  Portalnoticiasceara/2024-12-10/media/photo_5442.jpg.zstd\n",
      "Obj:  Portalnoticiasceara/2024-12-10/media/video_5397.mp4.zstd\n",
      "Obj:  Portalnoticiasceara/2024-12-10/media/video_5402.mp4.zstd\n",
      "Obj:  Portalnoticiasceara/2024-12-10/media/video_5403.mp4.zstd\n",
      "Obj:  Portalnoticiasceara/2024-12-10/media/video_5404.mp4.zstd\n",
      "Obj:  Portalnoticiasceara/2024-12-10/media/video_5414.mp4.zstd\n",
      "Obj:  Portalnoticiasceara/2024-12-10/media/video_5415.mp4.zstd\n",
      "Obj:  Portalnoticiasceara/2024-12-10/media/video_5416.mp4.zstd\n",
      "Obj:  Portalnoticiasceara/2024-12-10/media/video_5417.mp4.zstd\n",
      "Obj:  Portalnoticiasceara/2024-12-10/media/video_5426.mp4.zstd\n",
      "Obj:  Portalnoticiasceara/2024-12-10/metadata.json\n",
      "Obj:  Portalnoticiasceara/2024-12-11/media/photo_5445.jpg.zstd\n",
      "Obj:  Portalnoticiasceara/2024-12-11/media/photo_5456.jpg.zstd\n",
      "Obj:  Portalnoticiasceara/2024-12-11/media/photo_5457.jpg.zstd\n",
      "Obj:  Portalnoticiasceara/2024-12-11/media/photo_5460.jpg.zstd\n",
      "Obj:  Portalnoticiasceara/2024-12-11/media/photo_5462.jpg.zstd\n",
      "Obj:  Portalnoticiasceara/2024-12-11/media/photo_5466.jpg.zstd\n",
      "Obj:  Portalnoticiasceara/2024-12-11/media/photo_5467.jpg.zstd\n",
      "Obj:  Portalnoticiasceara/2024-12-11/media/photo_5469.jpg.zstd\n",
      "Obj:  Portalnoticiasceara/2024-12-11/media/photo_5474.jpg.zstd\n",
      "Obj:  Portalnoticiasceara/2024-12-11/media/photo_5478.jpg.zstd\n",
      "Obj:  Portalnoticiasceara/2024-12-11/media/photo_5479.jpg.zstd\n",
      "Obj:  Portalnoticiasceara/2024-12-11/media/photo_5483.jpg.zstd\n",
      "Obj:  Portalnoticiasceara/2024-12-11/media/photo_5484.jpg.zstd\n",
      "Obj:  Portalnoticiasceara/2024-12-11/media/photo_5485.jpg.zstd\n",
      "Obj:  Portalnoticiasceara/2024-12-11/media/photo_5487.jpg.zstd\n",
      "Obj:  Portalnoticiasceara/2024-12-11/media/photo_5494.jpg.zstd\n",
      "Obj:  Portalnoticiasceara/2024-12-11/media/photo_5496.jpg.zstd\n",
      "Obj:  Portalnoticiasceara/2024-12-11/media/photo_5497.jpg.zstd\n",
      "Obj:  Portalnoticiasceara/2024-12-11/media/video_5461.mp4.zstd\n",
      "Obj:  Portalnoticiasceara/2024-12-11/media/video_5486.mp4.zstd\n",
      "Obj:  Portalnoticiasceara/2024-12-11/media/video_5489.mp4.zstd\n",
      "Obj:  Portalnoticiasceara/2024-12-11/media/video_5492.mp4.zstd\n",
      "Obj:  Portalnoticiasceara/2024-12-11/media/video_5495.mp4.zstd\n",
      "Obj:  Portalnoticiasceara/2024-12-11/media/video_5498.mp4.zstd\n",
      "Obj:  Portalnoticiasceara/2024-12-11/metadata.json\n",
      "Obj:  Portalnoticiasceara/2024-12-12/media/photo_5501.jpg.zstd\n",
      "Obj:  Portalnoticiasceara/2024-12-12/media/photo_5511.jpg.zstd\n",
      "Obj:  Portalnoticiasceara/2024-12-12/media/photo_5530.jpg.zstd\n",
      "Obj:  Portalnoticiasceara/2024-12-12/media/photo_5531.jpg.zstd\n",
      "Obj:  Portalnoticiasceara/2024-12-12/media/photo_5532.jpg.zstd\n",
      "Obj:  Portalnoticiasceara/2024-12-12/media/photo_5533.jpg.zstd\n",
      "Obj:  Portalnoticiasceara/2024-12-12/media/photo_5534.jpg.zstd\n",
      "Obj:  Portalnoticiasceara/2024-12-12/media/photo_5538.jpg.zstd\n",
      "Obj:  Portalnoticiasceara/2024-12-12/media/photo_5543.jpg.zstd\n",
      "Obj:  Portalnoticiasceara/2024-12-12/media/photo_5546.jpg.zstd\n",
      "Obj:  Portalnoticiasceara/2024-12-12/media/photo_5554.jpg.zstd\n",
      "Obj:  Portalnoticiasceara/2024-12-12/media/photo_5556.jpg.zstd\n",
      "Obj:  Portalnoticiasceara/2024-12-12/media/photo_5557.jpg.zstd\n",
      "Obj:  Portalnoticiasceara/2024-12-12/media/photo_5558.jpg.zstd\n",
      "Obj:  Portalnoticiasceara/2024-12-12/media/photo_5559.jpg.zstd\n",
      "Obj:  Portalnoticiasceara/2024-12-12/media/photo_5563.jpg.zstd\n",
      "Obj:  Portalnoticiasceara/2024-12-12/media/photo_5566.jpg.zstd\n",
      "Obj:  Portalnoticiasceara/2024-12-12/media/photo_5572.jpg.zstd\n",
      "Obj:  Portalnoticiasceara/2024-12-12/media/photo_5573.jpg.zstd\n",
      "Obj:  Portalnoticiasceara/2024-12-12/media/photo_5574.jpg.zstd\n",
      "Obj:  Portalnoticiasceara/2024-12-12/media/photo_5579.jpg.zstd\n",
      "Obj:  Portalnoticiasceara/2024-12-12/media/photo_5580.jpg.zstd\n",
      "Obj:  Portalnoticiasceara/2024-12-12/media/photo_5582.jpg.zstd\n",
      "Obj:  Portalnoticiasceara/2024-12-12/media/photo_5583.jpg.zstd\n",
      "Obj:  Portalnoticiasceara/2024-12-12/media/photo_5584.jpg.zstd\n",
      "Obj:  Portalnoticiasceara/2024-12-12/media/video_5510.mp4.zstd\n",
      "Obj:  Portalnoticiasceara/2024-12-12/media/video_5513.mp4.zstd\n",
      "Obj:  Portalnoticiasceara/2024-12-12/media/video_5514.mp4.zstd\n",
      "Obj:  Portalnoticiasceara/2024-12-12/media/video_5515.mp4.zstd\n",
      "Obj:  Portalnoticiasceara/2024-12-12/media/video_5516.mp4.zstd\n",
      "Obj:  Portalnoticiasceara/2024-12-12/media/video_5527.mp4.zstd\n",
      "Obj:  Portalnoticiasceara/2024-12-12/media/video_5528.mp4.zstd\n",
      "Obj:  Portalnoticiasceara/2024-12-12/media/video_5529.mp4.zstd\n",
      "Obj:  Portalnoticiasceara/2024-12-12/media/video_5536.mp4.zstd\n",
      "Obj:  Portalnoticiasceara/2024-12-12/media/video_5550.mp4.zstd\n",
      "Obj:  Portalnoticiasceara/2024-12-12/media/video_5567.mp4.zstd\n",
      "Obj:  Portalnoticiasceara/2024-12-12/media/video_5568.mp4.zstd\n",
      "Obj:  Portalnoticiasceara/2024-12-12/media/video_5569.mp4.zstd\n",
      "Obj:  Portalnoticiasceara/2024-12-12/media/video_5570.mp4.zstd\n",
      "Obj:  Portalnoticiasceara/2024-12-12/metadata.json\n",
      "Obj:  Portalnoticiasceara/2024-12-13/media/photo_5585.jpg.zstd\n",
      "Obj:  Portalnoticiasceara/2024-12-13/media/photo_5586.jpg.zstd\n",
      "Obj:  Portalnoticiasceara/2024-12-13/metadata.json\n"
     ]
    }
   ],
   "source": [
    "import unicodedata\n",
    "def normalizar_texto(texto):\n",
    "    return ''.join(\n",
    "        c for c in unicodedata.normalize('NFD', texto)\n",
    "        if unicodedata.category(c) != 'Mn'\n",
    "    ).lower()"
   ]
  },
  {
   "cell_type": "code",
   "execution_count": 19,
   "metadata": {},
   "outputs": [
    {
     "ename": "NameError",
     "evalue": "name 'list_objects' is not defined",
     "output_type": "error",
     "traceback": [
      "\u001b[0;31m---------------------------------------------------------------------------\u001b[0m",
      "\u001b[0;31mNameError\u001b[0m                                 Traceback (most recent call last)",
      "Cell \u001b[0;32mIn[19], line 1\u001b[0m\n\u001b[0;32m----> 1\u001b[0m \u001b[38;5;28;01mfor\u001b[39;00m obj \u001b[38;5;129;01min\u001b[39;00m \u001b[43mlist_objects\u001b[49m:\n\u001b[1;32m      2\u001b[0m     response \u001b[38;5;241m=\u001b[39m minio_client\u001b[38;5;241m.\u001b[39mget_object(bucket_name\u001b[38;5;241m=\u001b[39mbucket_name, object_name\u001b[38;5;241m=\u001b[39mobj\u001b[38;5;241m.\u001b[39mobject_name)\n\u001b[1;32m      3\u001b[0m     data \u001b[38;5;241m=\u001b[39m response\u001b[38;5;241m.\u001b[39mread()\n",
      "\u001b[0;31mNameError\u001b[0m: name 'list_objects' is not defined"
     ]
    }
   ],
   "source": [
    "bairros_normalizados = [normalizar_texto(bairro) for bairro in bairros_fortaleza]"
   ]
  },
  {
   "cell_type": "code",
   "execution_count": null,
   "metadata": {},
   "outputs": [],
   "source": [
    "import pandas as pd\n",
    "pd.set_option('display.max_colwidth', None)"
   ]
  },
  {
   "cell_type": "code",
   "execution_count": null,
   "metadata": {},
   "outputs": [],
   "source": [
    "dados = []\n",
    "list_objects = minio_client.list_objects(bucket_name, prefix='Portalnoticiasceara', recursive=True)\n",
    "# Processar cada objeto encontrado\n",
    "for obj in list_objects:\n",
    "    if obj.object_name.endswith('.json'):  # Verificar se é um arquivo JSON\n",
    "        print(f\"Lendo o arquivo: {obj.object_name}\")\n",
    "        try:\n",
    "            # Baixar o objeto\n",
    "            response = minio_client.get_object(bucket_name=bucket_name, object_name=obj.object_name)\n",
    "            \n",
    "            # Ler o conteúdo\n",
    "            data = response.read().decode('utf-8')\n",
    "            \n",
    "            # Parsear JSON\n",
    "            json_data = json.loads(data)\n",
    "            \n",
    "            # Verificar se é uma lista\n",
    "            if isinstance(json_data, list):\n",
    "                for item in json_data:\n",
    "                    # Extrair informações relevantes\n",
    "                    message = item.get('message', '')\n",
    "                    message_id = item.get('id', None)\n",
    "                    date = item.get('date', None)\n",
    "                    media_path = item.get('media_path', None)\n",
    "                    \n",
    "                    if message:\n",
    "                        # Normalizar a mensagem\n",
    "                        message_normalizada = normalizar_texto(message)\n",
    "                        \n",
    "                        # Identificar bairros mencionados\n",
    "                        bairros_mencionados = [\n",
    "                            bairro_original for bairro_original, bairro_normalizado in zip(bairros_fortaleza, bairros_normalizados)\n",
    "                            if bairro_normalizado in message_normalizada\n",
    "                        ]\n",
    "                        \n",
    "                        # Se algum bairro foi identificado, salvar os dados\n",
    "                        if bairros_mencionados:\n",
    "                            for bairro in bairros_mencionados:\n",
    "                                dados.append({\n",
    "                                    \"id\": message_id,\n",
    "                                    \"mensagem\": message,\n",
    "                                    \"bairro\": bairro,\n",
    "                                    \"data\": date,\n",
    "                                    \"media_path\": media_path\n",
    "                                })\n",
    "            \n",
    "            # Fechar o response\n",
    "            response.close()\n",
    "            response.release_conn()\n",
    "            \n",
    "            with open('./silver_metadata.json', 'w', encoding='utf-8') as json_file:\n",
    "                json.dump(dados, json_file, ensure_ascii=False, indent=4)\n",
    "\n",
    "        except Exception as e:\n",
    "            print(f\"Erro ao processar {obj.object_name}: {e}\")"
   ]
  },
  {
   "cell_type": "code",
   "execution_count": null,
   "metadata": {},
   "outputs": [],
   "source": [
    "df = pd.DataFrame(dados)"
   ]
  },
  {
   "cell_type": "code",
   "execution_count": null,
   "metadata": {},
   "outputs": [],
   "source": [
    "df.tail()"
   ]
  },
  {
   "cell_type": "code",
   "execution_count": null,
   "metadata": {},
   "outputs": [],
   "source": [
    "df['bairro'].value_counts()"
   ]
  },
  {
   "cell_type": "code",
   "execution_count": null,
   "metadata": {},
   "outputs": [],
   "source": [
    "import zstandard\n",
    "decompressor = zstandard.ZstdDecompressor()"
   ]
  },
  {
   "cell_type": "code",
   "execution_count": null,
   "metadata": {},
   "outputs": [],
   "source": [
    "def download_and_decompress(path, bucket_name):\n",
    "    # Baixar o arquivo do MinIO\n",
    "    result = minio_client.get_object(bucket_name, path)\n",
    "    \n",
    "    # Ler os dados comprimidos\n",
    "    compressed_data = result.read()\n",
    "    \n",
    "    # Descomprimir os dados\n",
    "    decompressor = zstandard.ZstdDecompressor()\n",
    "    \n",
    "    try:\n",
    "        # Usando BytesIO para garantir que os dados sejam tratados como fluxo\n",
    "        decompressed_data = decompressor.decompress(compressed_data)\n",
    "        return decompressed_data\n",
    "    except zstandard.ZstdError as e:\n",
    "        print(f\"Erro ao descomprimir o arquivo {path}: {e}\")\n",
    "        return None"
   ]
  },
  {
   "cell_type": "code",
   "execution_count": null,
   "metadata": {},
   "outputs": [],
   "source": [
    "paths = df[df['id'] == 5777]['media_path']  # Carregar os paths do dataframe\n",
    "\n",
    "for path in paths:\n",
    "    print(f\"Processando {path}...\")\n",
    "    decompressed_data = download_and_decompress(path, bucket_name)\n",
    "    \n",
    "    if decompressed_data:\n",
    "        print(f\"Arquivo {path} descomprimido com sucesso.\")\n",
    "        # Aqui você pode salvar ou processar os dados descomprimidos\n",
    "    else:\n",
    "        print(f\"Falha ao descomprimir o arquivo {path}.\")"
   ]
  }
 ],
 "metadata": {
  "kernelspec": {
   "display_name": ".venv",
   "language": "python",
   "name": "python3"
  },
  "language_info": {
   "codemirror_mode": {
    "name": "ipython",
    "version": 3
   },
   "file_extension": ".py",
   "mimetype": "text/x-python",
   "name": "python",
   "nbconvert_exporter": "python",
   "pygments_lexer": "ipython3",
   "version": "3.10.12"
  }
 },
 "nbformat": 4,
 "nbformat_minor": 2
}
